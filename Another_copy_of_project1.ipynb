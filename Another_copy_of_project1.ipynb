{
  "cells": [
    {
      "cell_type": "markdown",
      "metadata": {
        "id": "view-in-github",
        "colab_type": "text"
      },
      "source": [
        "<a href=\"https://colab.research.google.com/github/Doaa-ali790/Doaa-ali790/blob/main/Another_copy_of_project1.ipynb\" target=\"_parent\"><img src=\"https://colab.research.google.com/assets/colab-badge.svg\" alt=\"Open In Colab\"/></a>"
      ]
    },
    {
      "cell_type": "code",
      "execution_count": null,
      "metadata": {
        "colab": {
          "base_uri": "https://localhost:8080/",
          "height": 159
        },
        "id": "ZxenA5TcAU0Q",
        "outputId": "93924e8b-8bfd-4a05-e91a-a6185ed3c337"
      },
      "outputs": [
        {
          "ename": "SyntaxError",
          "evalue": "invalid character '،' (U+060C) (ipython-input-1732467623.py, line 5)",
          "output_type": "error",
          "traceback": [
            "\u001b[0;36m  File \u001b[0;32m\"/tmp/ipython-input-1732467623.py\"\u001b[0;36m, line \u001b[0;32m5\u001b[0m\n\u001b[0;31m    print ( \"دليل المشروع:\" ،  project_dir )\u001b[0m\n\u001b[0m                            ^\u001b[0m\n\u001b[0;31mSyntaxError\u001b[0m\u001b[0;31m:\u001b[0m invalid character '،' (U+060C)\n"
          ]
        }
      ],
      "source": [
        "من  google.colab  استيراد  محرك الأقراص\n",
        "drive.mount ( '/content/drive' )\n",
        "\n",
        "project_dir =  '/content/drive/MyDrive/species_project'\n",
        "print ( \"دليل المشروع:\" ،  project_dir )"
      ]
    },
    {
      "cell_type": "code",
      "execution_count": null,
      "metadata": {
        "colab": {
          "base_uri": "https://localhost:8080/"
        },
        "id": "Jjgv_BuxBCZF",
        "outputId": "c2d3090d-de72-48ce-aab4-388893dfaf71"
      },
      "outputs": [
        {
          "name": "stdout",
          "output_type": "stream",
          "text": [
            "['train_features_and_svm.py', 'app_streamlit.py', 'requirements.txt', 'README.txt', 'svc_pipeline.joblib', 'dataset']\n"
          ]
        }
      ],
      "source": [
        "import os\n",
        "print(os.listdir(project_dir))"
      ]
    },
    {
      "cell_type": "code",
      "execution_count": null,
      "metadata": {
        "colab": {
          "base_uri": "https://localhost:8080/"
        },
        "id": "o0SSMmhrBJkz",
        "outputId": "c12ac015-1762-4a20-d459-94e3f6460665"
      },
      "outputs": [
        {
          "name": "stdout",
          "output_type": "stream",
          "text": [
            "Drive already mounted at /content/drive; to attempt to forcibly remount, call drive.mount(\"/content/drive\", force_remount=True).\n"
          ]
        }
      ],
      "source": [
        "# ✅ 1️⃣ ربط Google Drive\n",
        "from google.colab import drive\n",
        "drive.mount('/content/drive')\n",
        "\n",
        "# ✅ 2️⃣ تثبيت مكتبة kaggle لتحميل البيانات (مرة واحدة فقط)\n",
        "!pip install -q kaggle\n",
        "\n",
        "# ✅ 3️⃣ إعداد مفتاح Kaggle (تضعيه لمرة واحدة فقط)\n",
        "# انسخي مفتاحك من موقع كاجل وضعيه هنا\n",
        "import os\n",
        "os.environ['KAGGLE_USERNAME'] = \"doaaali790\"\n",
        "os.environ['KAGGLE_KEY'] = \"ecf52e62471efd48b23428753fe727c3\""
      ]
    },
    {
      "cell_type": "code",
      "execution_count": null,
      "metadata": {
        "colab": {
          "base_uri": "https://localhost:8080/",
          "height": 73
        },
        "id": "OM0aXvBEBUGk",
        "outputId": "1004b3e3-02fc-4aa8-a275-b3b673afcf3e"
      },
      "outputs": [
        {
          "data": {
            "text/html": [
              "\n",
              "     <input type=\"file\" id=\"files-ba458c14-94d0-4a1a-9f7c-9c55fe097351\" name=\"files[]\" multiple disabled\n",
              "        style=\"border:none\" />\n",
              "     <output id=\"result-ba458c14-94d0-4a1a-9f7c-9c55fe097351\">\n",
              "      Upload widget is only available when the cell has been executed in the\n",
              "      current browser session. Please rerun this cell to enable.\n",
              "      </output>\n",
              "      <script>// Copyright 2017 Google LLC\n",
              "//\n",
              "// Licensed under the Apache License, Version 2.0 (the \"License\");\n",
              "// you may not use this file except in compliance with the License.\n",
              "// You may obtain a copy of the License at\n",
              "//\n",
              "//      http://www.apache.org/licenses/LICENSE-2.0\n",
              "//\n",
              "// Unless required by applicable law or agreed to in writing, software\n",
              "// distributed under the License is distributed on an \"AS IS\" BASIS,\n",
              "// WITHOUT WARRANTIES OR CONDITIONS OF ANY KIND, either express or implied.\n",
              "// See the License for the specific language governing permissions and\n",
              "// limitations under the License.\n",
              "\n",
              "/**\n",
              " * @fileoverview Helpers for google.colab Python module.\n",
              " */\n",
              "(function(scope) {\n",
              "function span(text, styleAttributes = {}) {\n",
              "  const element = document.createElement('span');\n",
              "  element.textContent = text;\n",
              "  for (const key of Object.keys(styleAttributes)) {\n",
              "    element.style[key] = styleAttributes[key];\n",
              "  }\n",
              "  return element;\n",
              "}\n",
              "\n",
              "// Max number of bytes which will be uploaded at a time.\n",
              "const MAX_PAYLOAD_SIZE = 100 * 1024;\n",
              "\n",
              "function _uploadFiles(inputId, outputId) {\n",
              "  const steps = uploadFilesStep(inputId, outputId);\n",
              "  const outputElement = document.getElementById(outputId);\n",
              "  // Cache steps on the outputElement to make it available for the next call\n",
              "  // to uploadFilesContinue from Python.\n",
              "  outputElement.steps = steps;\n",
              "\n",
              "  return _uploadFilesContinue(outputId);\n",
              "}\n",
              "\n",
              "// This is roughly an async generator (not supported in the browser yet),\n",
              "// where there are multiple asynchronous steps and the Python side is going\n",
              "// to poll for completion of each step.\n",
              "// This uses a Promise to block the python side on completion of each step,\n",
              "// then passes the result of the previous step as the input to the next step.\n",
              "function _uploadFilesContinue(outputId) {\n",
              "  const outputElement = document.getElementById(outputId);\n",
              "  const steps = outputElement.steps;\n",
              "\n",
              "  const next = steps.next(outputElement.lastPromiseValue);\n",
              "  return Promise.resolve(next.value.promise).then((value) => {\n",
              "    // Cache the last promise value to make it available to the next\n",
              "    // step of the generator.\n",
              "    outputElement.lastPromiseValue = value;\n",
              "    return next.value.response;\n",
              "  });\n",
              "}\n",
              "\n",
              "/**\n",
              " * Generator function which is called between each async step of the upload\n",
              " * process.\n",
              " * @param {string} inputId Element ID of the input file picker element.\n",
              " * @param {string} outputId Element ID of the output display.\n",
              " * @return {!Iterable<!Object>} Iterable of next steps.\n",
              " */\n",
              "function* uploadFilesStep(inputId, outputId) {\n",
              "  const inputElement = document.getElementById(inputId);\n",
              "  inputElement.disabled = false;\n",
              "\n",
              "  const outputElement = document.getElementById(outputId);\n",
              "  outputElement.innerHTML = '';\n",
              "\n",
              "  const pickedPromise = new Promise((resolve) => {\n",
              "    inputElement.addEventListener('change', (e) => {\n",
              "      resolve(e.target.files);\n",
              "    });\n",
              "  });\n",
              "\n",
              "  const cancel = document.createElement('button');\n",
              "  inputElement.parentElement.appendChild(cancel);\n",
              "  cancel.textContent = 'Cancel upload';\n",
              "  const cancelPromise = new Promise((resolve) => {\n",
              "    cancel.onclick = () => {\n",
              "      resolve(null);\n",
              "    };\n",
              "  });\n",
              "\n",
              "  // Wait for the user to pick the files.\n",
              "  const files = yield {\n",
              "    promise: Promise.race([pickedPromise, cancelPromise]),\n",
              "    response: {\n",
              "      action: 'starting',\n",
              "    }\n",
              "  };\n",
              "\n",
              "  cancel.remove();\n",
              "\n",
              "  // Disable the input element since further picks are not allowed.\n",
              "  inputElement.disabled = true;\n",
              "\n",
              "  if (!files) {\n",
              "    return {\n",
              "      response: {\n",
              "        action: 'complete',\n",
              "      }\n",
              "    };\n",
              "  }\n",
              "\n",
              "  for (const file of files) {\n",
              "    const li = document.createElement('li');\n",
              "    li.append(span(file.name, {fontWeight: 'bold'}));\n",
              "    li.append(span(\n",
              "        `(${file.type || 'n/a'}) - ${file.size} bytes, ` +\n",
              "        `last modified: ${\n",
              "            file.lastModifiedDate ? file.lastModifiedDate.toLocaleDateString() :\n",
              "                                    'n/a'} - `));\n",
              "    const percent = span('0% done');\n",
              "    li.appendChild(percent);\n",
              "\n",
              "    outputElement.appendChild(li);\n",
              "\n",
              "    const fileDataPromise = new Promise((resolve) => {\n",
              "      const reader = new FileReader();\n",
              "      reader.onload = (e) => {\n",
              "        resolve(e.target.result);\n",
              "      };\n",
              "      reader.readAsArrayBuffer(file);\n",
              "    });\n",
              "    // Wait for the data to be ready.\n",
              "    let fileData = yield {\n",
              "      promise: fileDataPromise,\n",
              "      response: {\n",
              "        action: 'continue',\n",
              "      }\n",
              "    };\n",
              "\n",
              "    // Use a chunked sending to avoid message size limits. See b/62115660.\n",
              "    let position = 0;\n",
              "    do {\n",
              "      const length = Math.min(fileData.byteLength - position, MAX_PAYLOAD_SIZE);\n",
              "      const chunk = new Uint8Array(fileData, position, length);\n",
              "      position += length;\n",
              "\n",
              "      const base64 = btoa(String.fromCharCode.apply(null, chunk));\n",
              "      yield {\n",
              "        response: {\n",
              "          action: 'append',\n",
              "          file: file.name,\n",
              "          data: base64,\n",
              "        },\n",
              "      };\n",
              "\n",
              "      let percentDone = fileData.byteLength === 0 ?\n",
              "          100 :\n",
              "          Math.round((position / fileData.byteLength) * 100);\n",
              "      percent.textContent = `${percentDone}% done`;\n",
              "\n",
              "    } while (position < fileData.byteLength);\n",
              "  }\n",
              "\n",
              "  // All done.\n",
              "  yield {\n",
              "    response: {\n",
              "      action: 'complete',\n",
              "    }\n",
              "  };\n",
              "}\n",
              "\n",
              "scope.google = scope.google || {};\n",
              "scope.google.colab = scope.google.colab || {};\n",
              "scope.google.colab._files = {\n",
              "  _uploadFiles,\n",
              "  _uploadFilesContinue,\n",
              "};\n",
              "})(self);\n",
              "</script> "
            ],
            "text/plain": [
              "<IPython.core.display.HTML object>"
            ]
          },
          "metadata": {},
          "output_type": "display_data"
        },
        {
          "name": "stdout",
          "output_type": "stream",
          "text": [
            "Saving kaggle.json to kaggle.json\n"
          ]
        }
      ],
      "source": [
        "from google.colab import files\n",
        "uploaded = files.upload()  # ارفعي kaggle.json الجديد\n",
        "!mkdir -p /root/.kaggle\n",
        "!cp kaggle.json /root/.kaggle/\n",
        "!chmod 600 /root/.kaggle/kaggle.json"
      ]
    },
    {
      "cell_type": "code",
      "execution_count": null,
      "metadata": {
        "colab": {
          "base_uri": "https://localhost:8080/"
        },
        "id": "qz72esQHBtPZ",
        "outputId": "f7dc4dcb-4e97-4c52-88a9-85153842c6c6"
      },
      "outputs": [
        {
          "name": "stdout",
          "output_type": "stream",
          "text": [
            "Dataset URL: https://www.kaggle.com/datasets/alessiocorrado99/animals10\n",
            "License(s): GPL-2.0\n",
            "Downloading animals10.zip to /content\n",
            " 94% 551M/586M [00:06<00:00, 102MB/s] \n",
            "100% 586M/586M [00:06<00:00, 94.5MB/s]\n"
          ]
        }
      ],
      "source": [
        "!kaggle datasets download -d alessiocorrado99/animals10 -p /content --unzip"
      ]
    },
    {
      "cell_type": "code",
      "execution_count": null,
      "metadata": {
        "colab": {
          "base_uri": "https://localhost:8080/"
        },
        "id": "gI0yEdrbB647",
        "outputId": "3635ca37-6af0-4c0b-cb85-d99c6b014519"
      },
      "outputs": [
        {
          "name": "stdout",
          "output_type": "stream",
          "text": [
            "Dataset ready at: /content/raw-img\n"
          ]
        }
      ],
      "source": [
        "dataset_path = \"/content/raw-img\"\n",
        "print(\"Dataset ready at:\", dataset_path)"
      ]
    },
    {
      "cell_type": "code",
      "execution_count": null,
      "metadata": {
        "id": "0zpwuYfpCEi0"
      },
      "outputs": [],
      "source": [
        "# إنشاء مجلد المشروع داخل Drive\n",
        "!mkdir -p \"/content/drive/MyDrive/species_project/dataset\"\n",
        "\n",
        "# نسخ البيانات من raw-img إلى Drive\n",
        "!cp -r /content/raw-img \"/content/drive/MyDrive/species_project/dataset/\"\n"
      ]
    },
    {
      "cell_type": "code",
      "execution_count": null,
      "metadata": {
        "colab": {
          "base_uri": "https://localhost:8080/"
        },
        "id": "oxeCfXKeLV8Q",
        "outputId": "16866d9b-7a58-43d3-fa29-cfb5f0bed9e0"
      },
      "outputs": [
        {
          "name": "stdout",
          "output_type": "stream",
          "text": [
            "Dataset ready at: /content/drive/MyDrive/species_project/dataset/raw-img\n"
          ]
        }
      ],
      "source": [
        "dataset_path = \"/content/drive/MyDrive/species_project/dataset/raw-img\"\n",
        "print(\"Dataset ready at:\", dataset_path)\n"
      ]
    },
    {
      "cell_type": "code",
      "execution_count": null,
      "metadata": {
        "id": "kLv9jfG9av7W"
      },
      "outputs": [],
      "source": [
        "# ====== تثبيت المكاتب المطلوبة ======\n",
        "!pip install -q tensorflow scikit-learn wikipedia-api gtts\n",
        "\n",
        "# ====== توصيل Google Drive ======\n",
        "from google.colab import drive\n",
        "drive.mount('/content/drive', force_remount=True)     #يضمن إعادة التوصيل في كل مرة لتجنب المشاكل.\n",
        "\n",
        "import os, joblib, numpy as np\n",
        "from tensorflow.keras.applications import MobileNetV2\n",
        "from tensorflow.keras.applications.mobilenet_v2 import preprocess_input\n",
        "from tensorflow.keras.preprocessing import image as keras_image\n",
        "from sklearn.preprocessing import StandardScaler\n",
        "from sklearn.svm import SVC\n",
        "from sklearn.model_selection import train_test_split\n",
        "from IPython.display import display, Audio\n",
        "from PIL import Image\n",
        "import wikipediaapi\n",
        "from gtts import gTTS\n",
        "from google.colab import files\n",
        "import cv2\n",
        "\n",
        "# ====== إعداد المسارات ======\n",
        "DATASET_PATH = \"/content/drive/MyDrive/species_project/dataset/raw-img\"\n",
        "MODEL_PATH = \"/content/drive/MyDrive/species_project/svc_pipeline_mobilenet.joblib\"\n",
        "\n",
        "# ====== قائمة الفئات ======\n",
        "categories = sorted(os.listdir(DATASET_PATH))\n",
        "\n",
        "# ====== إعداد MobileNetV2 كـ feature extractor ======\n",
        "feature_extractor = MobileNetV2(weights='imagenet', include_top=False, pooling='avg', input_shape=(96,96,3))\n",
        "\n",
        "# ====== تحميل البيانات واستخراج الخصائص ======\n",
        "X, y = [], []\n",
        "print(\"جارٍ تحميل البيانات واستخراج الخصائص...\")\n",
        "for idx, cat in enumerate(categories):\n",
        "    cat_folder = os.path.join(DATASET_PATH, cat)\n",
        "    for f in os.listdir(cat_folder)[:400]:  # 400 صورة لكل فئة لتسريع التدريب\n",
        "        img_path = os.path.join(cat_folder, f)\n",
        "        try:\n",
        "            img = keras_image.load_img(img_path, target_size=(96,96))\n",
        "            x = keras_image.img_to_array(img)\n",
        "            x = np.expand_dims(x, axis=0)\n",
        "            x = preprocess_input(x)\n",
        "            feat = feature_extractor.predict(x, verbose=0)\n",
        "            X.append(feat.flatten())\n",
        "            y.append(idx)\n",
        "        except:\n",
        "            continue\n",
        "\n",
        "X = np.array(X)\n",
        "y = np.array(y)\n",
        "print(\"✅ تم تحميل البيانات: \", X.shape)\n",
        "\n",
        "# ====== تقسيم البيانات ======\n",
        "X_train, X_test, y_train, y_test = train_test_split(X, y, test_size=0.2, random_state=42)\n",
        "\n",
        "# ====== تدريب SVM ======\n",
        "scaler = StandardScaler()\n",
        "X_train_scaled = scaler.fit_transform(X_train)\n",
        "X_test_scaled = scaler.transform(X_test)\n",
        "\n",
        "clf = SVC(probability=True)\n",
        "clf.fit(X_train_scaled, y_train)\n",
        "\n",
        "# ====== حفظ النموذج ======\n",
        "joblib.dump({'model': clf, 'scaler': scaler, 'labels': categories}, MODEL_PATH)\n",
        "print(\"✅ تم إنشاء وحفظ النموذج:\", MODEL_PATH)\n",
        "\n",
        "# ====== قاموس ترجمة الفئات ======\n",
        "label_map_ar = {\n",
        "    \"cane\": \"كلب\", \"cavallo\": \"حصان\", \"elefante\": \"فيل\", \"farfalla\": \"فراشة\",\n",
        "    \"gallina\": \"دجاجة\", \"gatto\": \"قطة\", \"mucca\": \"بقرة\", \"pecora\": \"خروف\",\n",
        "    \"ragno\": \"عنكبوت\", \"scoiattolo\": \"سنجاب\"\n",
        "}\n",
        "label_map_en = {\n",
        "    \"cane\": \"dog\", \"cavallo\": \"horse\", \"elefante\": \"elephant\", \"farfalla\": \"butterfly\",\n",
        "    \"gallina\": \"chicken\", \"gatto\": \"cat\", \"mucca\": \"cow\", \"pecora\": \"sheep\",\n",
        "    \"ragno\": \"spider\", \"scoiattolo\": \"squirrel\"\n",
        "}\n",
        "\n",
        "# ====== إعداد Wikipedia API ======\n",
        "wiki_ar = wikipediaapi.Wikipedia(language='ar', user_agent='MyColabSpeciesProjectBot/1.0 (contact: your_email@example.com)')\n",
        "wiki_en = wikipediaapi.Wikipedia(language='en', user_agent='MyColabSpeciesProjectBot/1.0 (contact: your_email@example.com)')\n",
        "\n",
        "def fetch_summary_for_label(orig_label, max_chars=400):\n",
        "    # جلب ملخص من ويكيبيديا\n",
        "    for lang, wiki, label_map in [('ar', wiki_ar, label_map_ar), ('en', wiki_en, label_map_en)]:\n",
        "        candidate = label_map.get(orig_label, orig_label)\n",
        "        try:\n",
        "            p = wiki.page(candidate)\n",
        "            if p.exists():\n",
        "                return p.summary[:max_chars], lang\n",
        "        except:\n",
        "            continue\n",
        "    return \"لا توجد معلومات متاحة.\", 'ar'\n",
        "\n",
        "def preprocess_img_file(path):\n",
        "    # تعديل حجم الصورة وتجهيزها للموديل\n",
        "    img = keras_image.load_img(path, target_size=(96,96))\n",
        "    x = keras_image.img_to_array(img)\n",
        "    x = np.expand_dims(x, axis=0)\n",
        "    x = preprocess_input(x)\n",
        "    feat = feature_extractor.predict(x, verbose=0)\n",
        "    return scaler.transform(feat), img\n",
        "\n",
        "# ====== تجربة الصور ======\n",
        "print(\"اختر/اختاري صورة (أو صور) من جهازك:\")\n",
        "uploaded = files.upload()\n",
        "\n",
        "for fname in uploaded.keys():\n",
        "    try:\n",
        "        print(\"\\n========================\")\n",
        "        print(\"الصورة:\", fname)\n",
        "        display(Image.open(fname))\n",
        "        X_in, img_disp = preprocess_img_file(fname)\n",
        "        probs = clf.predict_proba(X_in)[0]\n",
        "        idx = int(probs.argmax())\n",
        "        orig_label = categories[idx]\n",
        "        conf = float(probs[idx])\n",
        "        arabic_label = label_map_ar.get(orig_label, orig_label)\n",
        "        print(f\"التصنيف: {arabic_label} (اسم داخلي: {orig_label}) — الثقة: {conf:.3f}\")\n",
        "\n",
        "        summary, lang = fetch_summary_for_label(orig_label)\n",
        "        print(\"ملخص ويكيبيديا:\", summary)\n",
        "\n",
        "        # تحويل النص إلى صوت\n",
        "        tts_lang = 'ar' if lang=='ar' else 'en'\n",
        "        try:\n",
        "            tts = gTTS(text=summary, lang=tts_lang)\n",
        "            out_path = f\"/content/speech_{fname}.mp3\"\n",
        "            tts.save(out_path)\n",
        "            display(Audio(out_path, autoplay=False))\n",
        "            print(\"✅ تم إنشاء وتشغيل ملف الصوت.\")\n",
        "        except Exception as e:\n",
        "            print(\"فشل تحويل النص إلى صوت:\", e)\n",
        "    except Exception as e:\n",
        "        print(\"فشل معالجة الصورة:\", fname, \"| الخطأ:\", e)\n"
      ]
    },
    {
      "cell_type": "code",
      "execution_count": null,
      "metadata": {
        "colab": {
          "base_uri": "https://localhost:8080/",
          "height": 663
        },
        "id": "3X2gBQgebZGW",
        "outputId": "4360926c-da1f-408f-eb5d-177462023d85"
      },
      "outputs": [
        {
          "output_type": "stream",
          "name": "stdout",
          "text": [
            "Mounted at /content/drive\n",
            "Downloading data from https://storage.googleapis.com/tensorflow/keras-applications/mobilenet_v2/mobilenet_v2_weights_tf_dim_ordering_tf_kernels_1.0_96_no_top.h5\n",
            "\u001b[1m9406464/9406464\u001b[0m \u001b[32m━━━━━━━━━━━━━━━━━━━━\u001b[0m\u001b[37m\u001b[0m \u001b[1m0s\u001b[0m 0us/step\n",
            "Colab notebook detected. To show errors in colab notebook, set debug=True in launch()\n",
            "* Running on public URL: https://fad5b9899b92d0ea25.gradio.live\n",
            "\n",
            "This share link expires in 1 week. For free permanent hosting and GPU upgrades, run `gradio deploy` from the terminal in the working directory to deploy to Hugging Face Spaces (https://huggingface.co/spaces)\n"
          ]
        },
        {
          "output_type": "display_data",
          "data": {
            "text/plain": [
              "<IPython.core.display.HTML object>"
            ],
            "text/html": [
              "<div><iframe src=\"https://fad5b9899b92d0ea25.gradio.live\" width=\"100%\" height=\"500\" allow=\"autoplay; camera; microphone; clipboard-read; clipboard-write;\" frameborder=\"0\" allowfullscreen></iframe></div>"
            ]
          },
          "metadata": {}
        },
        {
          "output_type": "execute_result",
          "data": {
            "text/plain": []
          },
          "metadata": {},
          "execution_count": 2
        }
      ],
      "source": [
        "# ====== خلية Colab جاهزة لتشغيل واجهة Gradio بسهولة ======\n",
        "!pip install -q tensorflow scikit-learn wikipedia-api gtts gradio\n",
        "\n",
        "from google.colab import drive\n",
        "drive.mount('/content/drive', force_remount=True)\n",
        "\n",
        "# مسارات\n",
        "DRIVE_PROJECT = \"/content/drive/MyDrive/species_project/\"\n",
        "LOCAL = \"/content/species_project_local/\"\n",
        "import os, shutil, time\n",
        "os.makedirs(LOCAL, exist_ok=True)\n",
        "\n",
        "# انسخ الملفات المهمة من Drive إلى المسار المحلي (تأكد أن الأسماء صحيحة)\n",
        "shutil.copy(os.path.join(DRIVE_PROJECT, \"svc_pipeline_mobilenet.joblib\"), LOCAL)\n",
        "if os.path.exists(os.path.join(DRIVE_PROJECT, \"sounds\")):\n",
        "    shutil.copytree(os.path.join(DRIVE_PROJECT, \"sounds\"), os.path.join(LOCAL, \"sounds\"), dirs_exist_ok=True)\n",
        "# انسخ ملف الكود إن وُجد (اختياري)\n",
        "if os.path.exists(os.path.join(DRIVE_PROJECT, \"app_streamlit.py\")):\n",
        "    shutil.copy(os.path.join(DRIVE_PROJECT, \"app_streamlit.py\"), LOCAL)\n",
        "\n",
        "# ====== كود واجهة Gradio ======\n",
        "import joblib, numpy as np, gradio as gr, wikipediaapi, tempfile\n",
        "from tensorflow.keras.preprocessing import image as keras_image\n",
        "from tensorflow.keras.applications.mobilenet_v2 import preprocess_input, MobileNetV2\n",
        "from gtts import gTTS\n",
        "from PIL import Image\n",
        "import pathlib\n",
        "\n",
        "# تحميل النموذج والـ scaler والفئات\n",
        "data = joblib.load(os.path.join(LOCAL, \"svc_pipeline_mobilenet.joblib\"))\n",
        "clf = data['model']\n",
        "scaler = data['scaler']\n",
        "categories = data['labels']\n",
        "\n",
        "# إعداد feature extractor (قد يحمل الأوزان من النت أول مرة)\n",
        "feature_extractor = MobileNetV2(weights='imagenet', include_top=False, pooling='avg', input_shape=(96,96,3))\n",
        "\n",
        "# wikipedia\n",
        "wiki_ar = wikipediaapi.Wikipedia(language='ar', user_agent='AnimalApp (AI Project by Doaa)')\n",
        "wiki_en = wikipediaapi.Wikipedia(language='en', user_agent='AnimalApp (AI Project by Doaa)')\n",
        "\n",
        "# ترجمة الفئات\n",
        "label_map_ar = {\n",
        "    \"cane\": \"كلب\", \"cavallo\": \"حصان\", \"elefante\": \"فيل\", \"farfalla\": \"فراشة\",\n",
        "    \"gallina\": \"دجاجة\", \"gatto\": \"قطة\", \"mucca\": \"بقرة\", \"pecora\": \"خروف\",\n",
        "    \"ragno\": \"عنكبوت\", \"scoiattolo\": \"سنجاب\"\n",
        "}\n",
        "label_map_en = {\n",
        "    \"cane\": \"dog\", \"cavallo\": \"horse\", \"elefante\": \"elephant\", \"farfalla\": \"butterfly\",\n",
        "    \"gallina\": \"chicken\", \"gatto\": \"cat\", \"mucca\": \"cow\", \"pecora\": \"sheep\",\n",
        "    \"ragno\": \"spider\", \"scoiattolo\": \"squirrel\"\n",
        "}\n",
        "\n",
        "SOUNDS_DIR = os.path.join(LOCAL, \"sounds\")\n",
        "\n",
        "def fetch_summary(orig_label, lang='ar', max_chars=400):\n",
        "    wiki = wiki_ar if lang=='ar' else wiki_en\n",
        "    label_map = label_map_ar if lang=='ar' else label_map_en\n",
        "    candidate = label_map.get(orig_label, orig_label)\n",
        "    p = wiki.page(candidate)\n",
        "    if p.exists():\n",
        "        return p.summary[:max_chars]\n",
        "    return (\"لا توجد معلومات متاحة.\" if lang=='ar' else \"No information available.\")\n",
        "\n",
        "def preprocess_img(img_pil):\n",
        "    # img_pil: PIL Image\n",
        "    img = img_pil.resize((96,96)).convert('RGB')\n",
        "    x = np.array(img).astype('float32')\n",
        "    x = np.expand_dims(x, axis=0)\n",
        "    x = preprocess_input(x)\n",
        "    feat = feature_extractor.predict(x, verbose=0)\n",
        "    X_in = scaler.transform(feat)\n",
        "    return X_in, img\n",
        "\n",
        "def predict_and_audio(inp, language):\n",
        "    # inp: file-like image (gradio passes PIL image)\n",
        "    X_in, img_display = preprocess_img(inp)\n",
        "    probs = clf.predict_proba(X_in)[0]\n",
        "    idx = int(np.argmax(probs))\n",
        "    orig_label = categories[idx]\n",
        "    conf = float(probs[idx])\n",
        "    # نص لواجهة\n",
        "    name_ar = label_map_ar.get(orig_label, orig_label)\n",
        "    name_en = label_map_en.get(orig_label, orig_label)\n",
        "    display_name = name_ar if language=='عربي' else name_en\n",
        "\n",
        "    # ملخص ويكيبيديا\n",
        "    summary = fetch_summary(orig_label, 'ar' if language=='عربي' else 'en')\n",
        "\n",
        "    # إعداد ملفات الصوت: صوت الحيوان (إن وُجد) + TTS للملخص\n",
        "    animal_sound_path = None\n",
        "    candidate_sound = os.path.join(SOUNDS_DIR, f\"{orig_label}.mp3\")\n",
        "    if os.path.exists(candidate_sound):\n",
        "        animal_sound_path = candidate_sound\n",
        "\n",
        "    # TTS\n",
        "    tfile = tempfile.NamedTemporaryFile(suffix=\".mp3\", delete=False)\n",
        "    try:\n",
        "        tts_lang = 'ar' if language=='عربي' else 'en'\n",
        "        tts = gTTS(text=summary, lang=tts_lang)\n",
        "        tts.save(tfile.name)\n",
        "    except Exception as e:\n",
        "        tfile = None\n",
        "\n",
        "    # نُرجع: اسم، ثقة، ملخص نصي، مسار صورة معاد تحويلها للعرض، مسارات الصوت (حقيقي ثم TTS)\n",
        "    return {\n",
        "        \"name\": display_name,\n",
        "        \"confidence\": f\"{conf:.2f}\",\n",
        "        \"summary\": summary,\n",
        "        \"image\": img_display,\n",
        "        \"animal_sound\": animal_sound_path,\n",
        "        \"tts_sound\": tfile.name if tfile else None\n",
        "    }\n",
        "\n",
        "# ====== بناء واجهة Gradio Blocks بسيطة وجميلة ======\n",
        "with gr.Blocks() as demo:\n",
        "    gr.Markdown(\"<h1 style='text-align:center;color:#4B0082'>مشروع التعرف على الحيوانات</h1>\")\n",
        "    with gr.Row():\n",
        "        inp = gr.Image(type=\"pil\", label=\"ارفع صورة الحيوان\")\n",
        "        with gr.Column():\n",
        "            lang = gr.Radio(['عربي','English'], value='عربي', label=\"اختر اللغة\")\n",
        "            btn = gr.Button(\"تصنيف\")\n",
        "            name_out = gr.Textbox(label=\"التصنيف\", interactive=False)\n",
        "            conf_out = gr.Textbox(label=\"ثقة النموذج\", interactive=False)\n",
        "            summary_out = gr.Textbox(label=\"ملخص ويكيبيديا\", interactive=False)\n",
        "            animal_audio = gr.Audio(label=\"صوت الحيوان (إن وُجد)\", interactive=False)\n",
        "            tts_audio = gr.Audio(label=\"قراءة الملخص (TTS)\", interactive=False)\n",
        "\n",
        "    def run_all(image, language):\n",
        "        res = predict_and_audio(image, language)\n",
        "        return res[\"name\"], res[\"confidence\"], res[\"summary\"], res[\"animal_sound\"], res[\"tts_sound\"]\n",
        "\n",
        "    btn.click(run_all, inputs=[inp, lang], outputs=[name_out, conf_out, summary_out, animal_audio, tts_audio])\n",
        "\n",
        "# شغّل الواجهة مع رابط عام (share=True يعطي رابط خارجي آمن)\n",
        "demo.launch(share=True, inbrowser=False)\n"
      ]
    }
  ],
  "metadata": {
    "accelerator": "GPU",
    "colab": {
      "gpuType": "T4",
      "provenance": [],
      "authorship_tag": "ABX9TyNdjXxnGbT8vgVmxCMCCYIk",
      "include_colab_link": true
    },
    "kernelspec": {
      "display_name": "Python 3",
      "name": "python3"
    },
    "language_info": {
      "name": "python"
    }
  },
  "nbformat": 4,
  "nbformat_minor": 0
}